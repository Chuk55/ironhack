{
 "cells": [
  {
   "cell_type": "markdown",
   "metadata": {},
   "source": [
    "## Import Library"
   ]
  },
  {
   "cell_type": "code",
   "execution_count": 72,
   "metadata": {},
   "outputs": [],
   "source": [
    "import os\n",
    "import numpy as np\n",
    "import tensorflow as tf\n",
    "import keras\n",
    "import itertools\n",
    "import matplotlib.pyplot as plt\n",
    "%matplotlib inline\n",
    "\n",
    "from keras.models import Sequential\n",
    "from keras.layers import Input, Conv2D, Dense, Activation, Flatten, Dropout, MaxPooling2D, BatchNormalization\n",
    "from tensorflow.keras.preprocessing.image import ImageDataGenerator\n",
    "from tensorflow.keras import regularizers, optimizers\n",
    "from IPython.display import display\n",
    "from PIL import Image \n",
    "\n",
    "from time import strftime\n"
   ]
  },
  {
   "cell_type": "markdown",
   "metadata": {},
   "source": [
    "## Constants"
   ]
  },
  {
   "cell_type": "code",
   "execution_count": 46,
   "metadata": {},
   "outputs": [],
   "source": [
    "IMAGE_WIDTH = 100\n",
    "IMAGE_HEIGHT = 100\n",
    "IMAGE_PIXELS = IMAGE_WIDTH * IMAGE_HEIGHT\n",
    "COLOR_CHANNELS = 3\n",
    "TOTAL_INPUTS = IMAGE_PIXELS * COLOR_CHANNELS\n",
    "\n",
    "NR_CLASSES =131"
   ]
  },
  {
   "cell_type": "markdown",
   "metadata": {},
   "source": [
    "## Gather the Data & Process"
   ]
  },
  {
   "cell_type": "code",
   "execution_count": 47,
   "metadata": {},
   "outputs": [],
   "source": [
    "train_data_dir = 'Training/'\n",
    "validation_data_dir = 'Test/'"
   ]
  },
  {
   "cell_type": "code",
   "execution_count": 48,
   "metadata": {},
   "outputs": [
    {
     "name": "stdout",
     "output_type": "stream",
     "text": [
      "Found 67692 images belonging to 131 classes.\n",
      "Found 22688 images belonging to 131 classes.\n"
     ]
    }
   ],
   "source": [
    "train_datagen = ImageDataGenerator(rescale=1. / 255, shear_range=0.2, zoom_range=0.2, horizontal_flip=True)\n",
    "test_datagen = ImageDataGenerator(rescale=1. / 255)\n",
    "\n",
    "train_generator = train_datagen.flow_from_directory(train_data_dir, target_size=(IMAGE_HEIGHT, IMAGE_WIDTH), batch_size=20, class_mode='categorical')\n",
    "validation_generator = test_datagen.flow_from_directory(validation_data_dir, target_size=(IMAGE_HEIGHT, IMAGE_WIDTH), batch_size=20, class_mode='categorical')\n"
   ]
  },
  {
   "cell_type": "code",
   "execution_count": 49,
   "metadata": {},
   "outputs": [
    {
     "data": {
      "text/plain": [
       "tensorflow.python.keras.preprocessing.image.ImageDataGenerator"
      ]
     },
     "execution_count": 49,
     "metadata": {},
     "output_type": "execute_result"
    }
   ],
   "source": [
    "type(test_datagen)"
   ]
  },
  {
   "cell_type": "markdown",
   "metadata": {},
   "source": [
    "## Build CNN Model"
   ]
  },
  {
   "cell_type": "code",
   "execution_count": 54,
   "metadata": {},
   "outputs": [],
   "source": [
    "def build_model(lr = 0, dc = 0, dr = 0):\n",
    "    #create the architecture\n",
    "    model = Sequential()\n",
    "    \n",
    "    #add the 1st convolution layer to extract features from input image\n",
    "    #feature map: 32*3*3 elu convoluted features\n",
    "    #subsampling: pooling layer 2*2 pixel filter    \n",
    "    #add a dropout layer with 20% dropout\n",
    "    model.add(Conv2D(32, (3, 3), activation='elu', kernel_initializer='he_uniform', kernel_regularizer=regularizers.l2(1e-4), padding='same', input_shape=(100, 100, 3)))\n",
    "    model.add(BatchNormalization())\n",
    "    model.add(Conv2D(32, (3, 3), activation='elu', kernel_initializer='he_uniform', kernel_regularizer=regularizers.l2(1e-4), padding='same'))\n",
    "    model.add(BatchNormalization())\n",
    "    model.add(MaxPooling2D((2, 2)))\n",
    "    model.add(Dropout(0.2))\n",
    "\n",
    "    model.add(Conv2D(64, (3, 3), activation='elu', kernel_initializer='he_uniform', kernel_regularizer=regularizers.l2(1e-4), padding='same'))\n",
    "    model.add(BatchNormalization())\n",
    "    model.add(Conv2D(64, (3, 3), activation='elu', kernel_initializer='he_uniform', kernel_regularizer=regularizers.l2(1e-4), padding='same'))\n",
    "    model.add(BatchNormalization())\n",
    "    model.add(MaxPooling2D((2, 2)))\n",
    "    model.add(Dropout(0.3))\n",
    "\n",
    "    model.add(Conv2D(128, (3, 3), activation='elu', kernel_initializer='he_uniform', kernel_regularizer=regularizers.l2(1e-4), padding='same'))\n",
    "    model.add(BatchNormalization())\n",
    "    model.add(Conv2D(128, (3, 3), activation='elu', kernel_initializer='he_uniform', kernel_regularizer=regularizers.l2(1e-4), padding='same'))\n",
    "    model.add(BatchNormalization())\n",
    "    model.add(MaxPooling2D((2, 2)))\n",
    "    model.add(Dropout(0.4))\n",
    "    \n",
    "    #create NN 256 neurons 1D vector and elu activation\n",
    "    #add last layer 131 neurons using softmax function \n",
    "    model.add(Flatten())\n",
    "    model.add(Dense(256, activation='elu', kernel_initializer='he_uniform'))\n",
    "    model.add(BatchNormalization())\n",
    "    model.add(Dropout(dr))\n",
    "    model.add(Dense(NR_CLASSES, activation='softmax'))\n",
    "    \n",
    "    # compile model\n",
    "    opt = optimizers.Adam(lr = lr, decay = dc)\n",
    "    model.compile(loss='categorical_crossentropy', optimizer=opt, metrics=['accuracy'])\n",
    "    return model"
   ]
  },
  {
   "cell_type": "code",
   "execution_count": 55,
   "metadata": {},
   "outputs": [],
   "source": [
    "model = build_model(lr = 0.001, dc = 1e-5, dr = 0.5)"
   ]
  },
  {
   "cell_type": "code",
   "execution_count": 56,
   "metadata": {},
   "outputs": [
    {
     "name": "stdout",
     "output_type": "stream",
     "text": [
      "Model: \"sequential_7\"\n",
      "_________________________________________________________________\n",
      "Layer (type)                 Output Shape              Param #   \n",
      "=================================================================\n",
      "conv2d (Conv2D)              (None, 100, 100, 32)      896       \n",
      "_________________________________________________________________\n",
      "batch_normalization (BatchNo (None, 100, 100, 32)      128       \n",
      "_________________________________________________________________\n",
      "conv2d_1 (Conv2D)            (None, 100, 100, 32)      9248      \n",
      "_________________________________________________________________\n",
      "batch_normalization_1 (Batch (None, 100, 100, 32)      128       \n",
      "_________________________________________________________________\n",
      "max_pooling2d (MaxPooling2D) (None, 50, 50, 32)        0         \n",
      "_________________________________________________________________\n",
      "dropout (Dropout)            (None, 50, 50, 32)        0         \n",
      "_________________________________________________________________\n",
      "conv2d_2 (Conv2D)            (None, 50, 50, 64)        18496     \n",
      "_________________________________________________________________\n",
      "batch_normalization_2 (Batch (None, 50, 50, 64)        256       \n",
      "_________________________________________________________________\n",
      "conv2d_3 (Conv2D)            (None, 50, 50, 64)        36928     \n",
      "_________________________________________________________________\n",
      "batch_normalization_3 (Batch (None, 50, 50, 64)        256       \n",
      "_________________________________________________________________\n",
      "max_pooling2d_1 (MaxPooling2 (None, 25, 25, 64)        0         \n",
      "_________________________________________________________________\n",
      "dropout_1 (Dropout)          (None, 25, 25, 64)        0         \n",
      "_________________________________________________________________\n",
      "conv2d_4 (Conv2D)            (None, 25, 25, 128)       73856     \n",
      "_________________________________________________________________\n",
      "batch_normalization_4 (Batch (None, 25, 25, 128)       512       \n",
      "_________________________________________________________________\n",
      "conv2d_5 (Conv2D)            (None, 25, 25, 128)       147584    \n",
      "_________________________________________________________________\n",
      "batch_normalization_5 (Batch (None, 25, 25, 128)       512       \n",
      "_________________________________________________________________\n",
      "max_pooling2d_2 (MaxPooling2 (None, 12, 12, 128)       0         \n",
      "_________________________________________________________________\n",
      "dropout_2 (Dropout)          (None, 12, 12, 128)       0         \n",
      "_________________________________________________________________\n",
      "flatten (Flatten)            (None, 18432)             0         \n",
      "_________________________________________________________________\n",
      "dense (Dense)                (None, 256)               4718848   \n",
      "_________________________________________________________________\n",
      "batch_normalization_6 (Batch (None, 256)               1024      \n",
      "_________________________________________________________________\n",
      "dropout_3 (Dropout)          (None, 256)               0         \n",
      "_________________________________________________________________\n",
      "dense_1 (Dense)              (None, 131)               33667     \n",
      "=================================================================\n",
      "Total params: 5,042,339\n",
      "Trainable params: 5,040,931\n",
      "Non-trainable params: 1,408\n",
      "_________________________________________________________________\n"
     ]
    }
   ],
   "source": [
    "model.summary()"
   ]
  },
  {
   "cell_type": "markdown",
   "metadata": {},
   "source": [
    "## Fit the Model"
   ]
  },
  {
   "cell_type": "code",
   "execution_count": 60,
   "metadata": {},
   "outputs": [
    {
     "name": "stdout",
     "output_type": "stream",
     "text": [
      "Epoch 1/20\n",
      "150/150 [==============================] - 996s 7s/step - loss: 3.5618 - accuracy: 0.1827 - val_loss: 6.0506 - val_accuracy: 0.0787\n",
      "Epoch 2/20\n",
      "150/150 [==============================] - 978s 7s/step - loss: 2.3207 - accuracy: 0.4240 - val_loss: 2.6078 - val_accuracy: 0.3393\n",
      "Epoch 3/20\n",
      "150/150 [==============================] - 939s 6s/step - loss: 1.6475 - accuracy: 0.5790 - val_loss: 1.2370 - val_accuracy: 0.6707\n",
      "Epoch 4/20\n",
      "150/150 [==============================] - 931s 6s/step - loss: 1.2513 - accuracy: 0.6823 - val_loss: 0.7758 - val_accuracy: 0.8030\n",
      "Epoch 5/20\n",
      "150/150 [==============================] - 1077s 7s/step - loss: 0.9881 - accuracy: 0.7470 - val_loss: 0.6961 - val_accuracy: 0.8450\n",
      "Epoch 6/20\n",
      "150/150 [==============================] - 1003s 7s/step - loss: 0.8550 - accuracy: 0.7753 - val_loss: 0.5648 - val_accuracy: 0.8677\n",
      "Epoch 7/20\n",
      "150/150 [==============================] - 1021s 7s/step - loss: 0.6968 - accuracy: 0.8243 - val_loss: 0.5280 - val_accuracy: 0.8773\n",
      "Epoch 8/20\n",
      "150/150 [==============================] - 1016s 7s/step - loss: 0.6308 - accuracy: 0.8427 - val_loss: 0.6075 - val_accuracy: 0.8563\n",
      "Epoch 9/20\n",
      "150/150 [==============================] - 1070s 7s/step - loss: 0.5631 - accuracy: 0.8637 - val_loss: 0.4661 - val_accuracy: 0.9030\n",
      "Epoch 10/20\n",
      "150/150 [==============================] - 1001s 7s/step - loss: 0.5255 - accuracy: 0.8810 - val_loss: 0.5889 - val_accuracy: 0.8603\n",
      "Epoch 11/20\n",
      "150/150 [==============================] - 993s 7s/step - loss: 0.4600 - accuracy: 0.8937 - val_loss: 0.4020 - val_accuracy: 0.9100\n",
      "Epoch 12/20\n",
      "150/150 [==============================] - 990s 7s/step - loss: 0.4522 - accuracy: 0.8993 - val_loss: 0.4321 - val_accuracy: 0.8993\n",
      "Epoch 13/20\n",
      "150/150 [==============================] - 948s 6s/step - loss: 0.4164 - accuracy: 0.9020 - val_loss: 0.6426 - val_accuracy: 0.8483\n",
      "Epoch 14/20\n",
      "150/150 [==============================] - 978s 7s/step - loss: 0.3948 - accuracy: 0.9090 - val_loss: 0.4010 - val_accuracy: 0.9150\n",
      "Epoch 15/20\n",
      "150/150 [==============================] - 956s 6s/step - loss: 0.3453 - accuracy: 0.9283 - val_loss: 0.5098 - val_accuracy: 0.8803\n",
      "Epoch 16/20\n",
      "150/150 [==============================] - 955s 6s/step - loss: 0.3783 - accuracy: 0.9150 - val_loss: 0.3964 - val_accuracy: 0.9147\n",
      "Epoch 17/20\n",
      "150/150 [==============================] - 953s 6s/step - loss: 0.3865 - accuracy: 0.9123 - val_loss: 0.4019 - val_accuracy: 0.9053\n",
      "Epoch 18/20\n",
      "150/150 [==============================] - 955s 6s/step - loss: 0.3232 - accuracy: 0.9283 - val_loss: 0.4428 - val_accuracy: 0.9027\n",
      "Epoch 19/20\n",
      "150/150 [==============================] - 953s 6s/step - loss: 0.3717 - accuracy: 0.9160 - val_loss: 0.3685 - val_accuracy: 0.9287\n",
      "Epoch 20/20\n",
      "150/150 [==============================] - 964s 6s/step - loss: 0.3103 - accuracy: 0.9340 - val_loss: 0.2824 - val_accuracy: 0.9510\n",
      "Wall time: 5h 27min 56s\n"
     ]
    },
    {
     "data": {
      "text/plain": [
       "<tensorflow.python.keras.callbacks.History at 0x18a6c0a0>"
      ]
     },
     "execution_count": 60,
     "metadata": {},
     "output_type": "execute_result"
    }
   ],
   "source": [
    "%%time\n",
    "nr_epochs = 20\n",
    "model.fit_generator(generator=train_generator, steps_per_epoch = 150, epochs = nr_epochs,validation_data=validation_generator, verbose=1, validation_steps=150, shuffle=True)"
   ]
  },
  {
   "cell_type": "markdown",
   "metadata": {},
   "source": [
    "## Evaluation"
   ]
  },
  {
   "cell_type": "code",
   "execution_count": 61,
   "metadata": {},
   "outputs": [],
   "source": [
    "def plot_model(history): \n",
    "    fig, axs = plt.subplots(1,2,figsize=(16,5)) \n",
    "    # summarize history for accuracy\n",
    "    axs[0].plot(history.history['accuracy'], 'c') \n",
    "    axs[0].plot(history.history['val_accuracy'],'m') \n",
    "    axs[0].set_title('Model Accuracy')\n",
    "    axs[0].set_ylabel('Accuracy') \n",
    "    axs[0].set_xlabel('Epoch')\n",
    "    axs[0].legend(['train', 'validate'], loc='upper left')\n",
    "    \n",
    "    # summarize history for loss\n",
    "    axs[1].plot(history.history['loss'], 'c') \n",
    "    axs[1].plot(history.history['val_loss'], 'm') \n",
    "    axs[1].set_title('Model Loss')\n",
    "    axs[1].set_ylabel('Loss') \n",
    "    axs[1].set_xlabel('Epoch')\n",
    "    axs[1].legend(['train', 'validate'], loc='upper right')\n",
    "    plt.show()"
   ]
  },
  {
   "cell_type": "code",
   "execution_count": 62,
   "metadata": {},
   "outputs": [
    {
     "data": {
      "image/png": "[encoded data removed]",
      "text/plain": [
       "<Figure size 1152x360 with 2 Axes>"
      ]
     },
     "metadata": {
      "needs_background": "light"
     },
     "output_type": "display_data"
    }
   ],
   "source": [
    "plot_model(model.history)"
   ]
  },
  {
   "cell_type": "code",
   "execution_count": null,
   "metadata": {},
   "outputs": [],
   "source": [
    "#https://www.kaggle.com/volkandl/fruits-classifier-volkandl\n",
    "#https://github.com/Horea94/Fruit-Images-Dataset/blob/master/src/image_classification/Fruits-360%20CNN.ipynb"
   ]
  }
 ],
 "metadata": {
  "kernelspec": {
   "display_name": "Python 3",
   "language": "python",
   "name": "python3"
  },
  "language_info": {
   "codemirror_mode": {
    "name": "ipython",
    "version": 3
   },
   "file_extension": ".py",
   "mimetype": "text/x-python",
   "name": "python",
   "nbconvert_exporter": "python",
   "pygments_lexer": "ipython3",
   "version": "3.8.5"
  }
 },
 "nbformat": 4,
 "nbformat_minor": 4
}
