{
 "cells": [
  {
   "cell_type": "code",
   "execution_count": 1,
   "metadata": {},
   "outputs": [],
   "source": [
    "from bs4 import BeautifulSoup\n",
    "import pandas as pd\n",
    "import requests"
   ]
  },
  {
   "cell_type": "code",
   "execution_count": 2,
   "metadata": {},
   "outputs": [
    {
     "data": {
      "text/plain": [
       "200"
      ]
     },
     "execution_count": 2,
     "metadata": {},
     "output_type": "execute_result"
    }
   ],
   "source": [
    "url = \"https://www.billboard.com/charts/hot-100\"\n",
    "response = requests.get(url)\n",
    "    \n",
    "soup= BeautifulSoup (response.content,\"html.parser\")\n",
    "response.status_code"
   ]
  },
  {
   "cell_type": "markdown",
   "metadata": {},
   "source": [
    "## First Approach"
   ]
  },
  {
   "cell_type": "code",
   "execution_count": 4,
   "metadata": {},
   "outputs": [],
   "source": [
    "\n",
    "ranking = [] # current rank (class=\"chart-element__rank__number\")\n",
    "titles = [] # song titles (class=\"chart-element__information__song text--truncate color--primary\")\n",
    "artists = [] # artist name (class=\"chart-element__information__artist text--truncate color--secondary\")\n",
    "last_week_ranks = [] # last week ranking (class=\"chart-element__meta text--center color--secondary text--last\")\n",
    "peak_ranks = [] # peak rank (class=\"chart-element__meta text--center color--secondary text--peak\")\n",
    "weeks_on_chart = [] # weeks on chart(class=\"chart-element__meta text--center color--secondary text--week\")\n",
    "\n",
    "\n",
    "\n",
    "for tag in soup.select(\"div > ol > li > button\"):\n",
    "    \n",
    "    ranking.append(tag.find(\"span\",class_= \"chart-element__rank__number\").get_text())\n",
    "    titles.append(tag.find(\"span\",class_= \"chart-element__information__song text--truncate color--primary\").get_text())\n",
    "    artists.append(tag.find(\"span\",class_= \"chart-element__information__artist text--truncate color--secondary\").get_text())\n",
    "    last_week_ranks.append(tag.find(\"span\",class_ = \"chart-element__meta text--center color--secondary text--last\").get_text())\n",
    "    peak_ranks.append(tag.find(\"span\",class_= \"chart-element__meta text--center color--secondary text--peak\").get_text())\n",
    "    weeks_on_chart.append(tag.find(\"span\",class_= \"chart-element__meta text--center color--secondary text--week\").get_text())"
   ]
  },
  {
   "cell_type": "markdown",
   "metadata": {},
   "source": [
    "## Second Approach"
   ]
  },
  {
   "cell_type": "code",
   "execution_count": 8,
   "metadata": {},
   "outputs": [],
   "source": [
    "ranking = [] # current rank (class=\"chart-element__rank__number\")\n",
    "titles = [] # song titles (class=\"chart-element__information__song text--truncate color--primary\")\n",
    "artists = [] # artist name (class=\"chart-element__information__artist text--truncate color--secondary\")\n",
    "last_week_ranks = [] # last week ranking (class=\"chart-element__meta text--center color--secondary text--last\")\n",
    "peak_ranks = [] # peak rank (class=\"chart-element__meta text--center color--secondary text--peak\")\n",
    "weeks_on_chart = [] # weeks on chart(class=\"chart-element__meta text--center color--secondary text--week\")\n",
    "\n",
    "\n",
    "\n",
    "ranking = soup.find_all(\"span\",class_= \"chart-element__rank__number\")\n",
    "titles = soup.find_all(\"span\", class_=\"chart-element__information__song text--truncate color--primary\")\n",
    "artists = soup.find_all(\"span\", class_=\"chart-element__information__artist text--truncate color--secondary\")\n",
    "last_week_ranks = soup.find_all(\"span\", class_= \"chart-element__meta text--center color--secondary text--last\")\n",
    "peak_ranks = soup.find_all(\"span\", class_= \"chart-element__meta text--center color--secondary text--peak\")\n",
    "weeks_on_chart = soup.find_all(\"span\", class_= \"chart-element__meta text--center color--secondary text--week\")\n",
    "\n",
    "\n",
    "for lst in [ranking, titles, artists, last_week_ranks, peak_ranks, weeks_on_chart]: # iterating through a list of lists\n",
    "    for index in range(len(lst)): # iterating through each list\n",
    "        \n",
    "        lst[index] = lst[index].getText()"
   ]
  },
  {
   "cell_type": "code",
   "execution_count": 9,
   "metadata": {},
   "outputs": [],
   "source": [
    "billboard_df=pd.DataFrame({ \"Current Rank\": ranking,\n",
    "                            \"Song title\":titles,\n",
    "                            \"Artists involved\":artists,\n",
    "                            \"Weeks on\": weeks_on_chart,\n",
    "                            \"Rank Last Week\":last_week_ranks,\n",
    "                            \"Peak rank\": peak_ranks\n",
    "                            })"
   ]
  },
  {
   "cell_type": "code",
   "execution_count": 7,
   "metadata": {},
   "outputs": [
    {
     "data": {
      "text/html": [
       "<div>\n",
       "<style scoped>\n",
       "    .dataframe tbody tr th:only-of-type {\n",
       "        vertical-align: middle;\n",
       "    }\n",
       "\n",
       "    .dataframe tbody tr th {\n",
       "        vertical-align: top;\n",
       "    }\n",
       "\n",
       "    .dataframe thead th {\n",
       "        text-align: right;\n",
       "    }\n",
       "</style>\n",
       "<table border=\"1\" class=\"dataframe\">\n",
       "  <thead>\n",
       "    <tr style=\"text-align: right;\">\n",
       "      <th></th>\n",
       "      <th>Current Rank</th>\n",
       "      <th>Song title</th>\n",
       "      <th>Artists involved</th>\n",
       "      <th>Weeks on</th>\n",
       "      <th>Rank Last Week</th>\n",
       "      <th>Peak rank</th>\n",
       "    </tr>\n",
       "  </thead>\n",
       "  <tbody>\n",
       "    <tr>\n",
       "      <th>0</th>\n",
       "      <td>1</td>\n",
       "      <td>Drivers License</td>\n",
       "      <td>Olivia Rodrigo</td>\n",
       "      <td>5</td>\n",
       "      <td>1</td>\n",
       "      <td>1</td>\n",
       "    </tr>\n",
       "    <tr>\n",
       "      <th>1</th>\n",
       "      <td>2</td>\n",
       "      <td>Up</td>\n",
       "      <td>Cardi B</td>\n",
       "      <td>1</td>\n",
       "      <td>-</td>\n",
       "      <td>2</td>\n",
       "    </tr>\n",
       "    <tr>\n",
       "      <th>2</th>\n",
       "      <td>3</td>\n",
       "      <td>Blinding Lights</td>\n",
       "      <td>The Weeknd</td>\n",
       "      <td>62</td>\n",
       "      <td>3</td>\n",
       "      <td>1</td>\n",
       "    </tr>\n",
       "    <tr>\n",
       "      <th>3</th>\n",
       "      <td>4</td>\n",
       "      <td>Save Your Tears</td>\n",
       "      <td>The Weeknd</td>\n",
       "      <td>9</td>\n",
       "      <td>8</td>\n",
       "      <td>4</td>\n",
       "    </tr>\n",
       "    <tr>\n",
       "      <th>4</th>\n",
       "      <td>5</td>\n",
       "      <td>Mood</td>\n",
       "      <td>24kGoldn Featuring iann dior</td>\n",
       "      <td>27</td>\n",
       "      <td>2</td>\n",
       "      <td>1</td>\n",
       "    </tr>\n",
       "    <tr>\n",
       "      <th>...</th>\n",
       "      <td>...</td>\n",
       "      <td>...</td>\n",
       "      <td>...</td>\n",
       "      <td>...</td>\n",
       "      <td>...</td>\n",
       "      <td>...</td>\n",
       "    </tr>\n",
       "    <tr>\n",
       "      <th>95</th>\n",
       "      <td>96</td>\n",
       "      <td>Almost Maybes</td>\n",
       "      <td>Jordan Davis</td>\n",
       "      <td>3</td>\n",
       "      <td>99</td>\n",
       "      <td>95</td>\n",
       "    </tr>\n",
       "    <tr>\n",
       "      <th>96</th>\n",
       "      <td>97</td>\n",
       "      <td>Masterpiece</td>\n",
       "      <td>DaBaby</td>\n",
       "      <td>3</td>\n",
       "      <td>-</td>\n",
       "      <td>55</td>\n",
       "    </tr>\n",
       "    <tr>\n",
       "      <th>97</th>\n",
       "      <td>98</td>\n",
       "      <td>Prisoner</td>\n",
       "      <td>Miley Cyrus Featuring Dua Lipa</td>\n",
       "      <td>12</td>\n",
       "      <td>97</td>\n",
       "      <td>54</td>\n",
       "    </tr>\n",
       "    <tr>\n",
       "      <th>98</th>\n",
       "      <td>99</td>\n",
       "      <td>Skin</td>\n",
       "      <td>Sabrina Carpenter</td>\n",
       "      <td>3</td>\n",
       "      <td>89</td>\n",
       "      <td>48</td>\n",
       "    </tr>\n",
       "    <tr>\n",
       "      <th>99</th>\n",
       "      <td>100</td>\n",
       "      <td>Quicksand</td>\n",
       "      <td>Morray</td>\n",
       "      <td>1</td>\n",
       "      <td>-</td>\n",
       "      <td>100</td>\n",
       "    </tr>\n",
       "  </tbody>\n",
       "</table>\n",
       "<p>100 rows × 6 columns</p>\n",
       "</div>"
      ],
      "text/plain": [
       "   Current Rank       Song title                Artists involved Weeks on  \\\n",
       "0             1  Drivers License                  Olivia Rodrigo        5   \n",
       "1             2               Up                         Cardi B        1   \n",
       "2             3  Blinding Lights                      The Weeknd       62   \n",
       "3             4  Save Your Tears                      The Weeknd        9   \n",
       "4             5             Mood    24kGoldn Featuring iann dior       27   \n",
       "..          ...              ...                             ...      ...   \n",
       "95           96    Almost Maybes                    Jordan Davis        3   \n",
       "96           97      Masterpiece                          DaBaby        3   \n",
       "97           98         Prisoner  Miley Cyrus Featuring Dua Lipa       12   \n",
       "98           99             Skin               Sabrina Carpenter        3   \n",
       "99          100        Quicksand                          Morray        1   \n",
       "\n",
       "   Rank Last Week Peak rank  \n",
       "0               1         1  \n",
       "1               -         2  \n",
       "2               3         1  \n",
       "3               8         4  \n",
       "4               2         1  \n",
       "..            ...       ...  \n",
       "95             99        95  \n",
       "96              -        55  \n",
       "97             97        54  \n",
       "98             89        48  \n",
       "99              -       100  \n",
       "\n",
       "[100 rows x 6 columns]"
      ]
     },
     "execution_count": 7,
     "metadata": {},
     "output_type": "execute_result"
    }
   ],
   "source": [
    "billboard_df"
   ]
  },
  {
   "cell_type": "code",
   "execution_count": null,
   "metadata": {},
   "outputs": [],
   "source": []
  }
 ],
 "metadata": {
  "kernelspec": {
   "display_name": "Python 3",
   "language": "python",
   "name": "python3"
  },
  "language_info": {
   "codemirror_mode": {
    "name": "ipython",
    "version": 3
   },
   "file_extension": ".py",
   "mimetype": "text/x-python",
   "name": "python",
   "nbconvert_exporter": "python",
   "pygments_lexer": "ipython3",
   "version": "3.8.5"
  }
 },
 "nbformat": 4,
 "nbformat_minor": 4
}
